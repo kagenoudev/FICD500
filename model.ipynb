{
 "cells": [
  {
   "cell_type": "code",
   "execution_count": 20,
   "id": "49aa1374",
   "metadata": {},
   "outputs": [],
   "source": [
    "import tensorflow as tf\n",
    "import numpy as np\n",
    "from tensorflow.keras.applications import VGG16\n",
    "from tensorflow.keras import layers, callbacks"
   ]
  },
  {
   "cell_type": "code",
   "execution_count": 21,
   "id": "af83b717",
   "metadata": {},
   "outputs": [],
   "source": [
    "# Load the pre-trained VGG16 model without the top classification layer\n",
    "base_model = VGG16(weights='imagenet', include_top=False, input_shape=(64, 64, 3))\n"
   ]
  },
  {
   "cell_type": "code",
   "execution_count": 22,
   "id": "9fd9fefa",
   "metadata": {},
   "outputs": [],
   "source": [
    "# Freeze the base model layers\n",
    "base_model.trainable = False"
   ]
  },
  {
   "cell_type": "code",
   "execution_count": 23,
   "id": "eae94f05",
   "metadata": {},
   "outputs": [],
   "source": [
    "# Create the CNN model by adding the base model and additional layers\n",
    "model = tf.keras.Sequential()\n",
    "model.add(base_model)\n",
    "model.add(layers.Flatten())\n",
    "model.add(layers.Dense(64, activation='relu'))\n",
    "model.add(layers.Dense(1, activation='sigmoid'))"
   ]
  },
  {
   "cell_type": "code",
   "execution_count": 24,
   "id": "20ed79ef",
   "metadata": {},
   "outputs": [],
   "source": [
    "# Compile the model\n",
    "model.compile(optimizer='adam',\n",
    "              loss=tf.keras.losses.BinaryCrossentropy(),\n",
    "              metrics=['accuracy'])"
   ]
  },
  {
   "cell_type": "code",
   "execution_count": 25,
   "id": "171d42fd",
   "metadata": {},
   "outputs": [],
   "source": [
    "# Load and preprocess your dataset\n",
    "train_data_dir = 'Dataset/Training'\n",
    "validation_data_dir = 'Dataset/Validation'"
   ]
  },
  {
   "cell_type": "code",
   "execution_count": 26,
   "id": "b196101e",
   "metadata": {},
   "outputs": [],
   "source": [
    "# Define the image size and batch size\n",
    "image_size = (64, 64)\n",
    "batch_size = 32"
   ]
  },
  {
   "cell_type": "code",
   "execution_count": 27,
   "id": "702d4978",
   "metadata": {},
   "outputs": [],
   "source": [
    "# Data preprocessing and augmentation\n",
    "train_datagen = tf.keras.preprocessing.image.ImageDataGenerator(\n",
    "    rescale=1./255,          # Normalize pixel values to [0, 1]\n",
    "    shear_range=0.2,         # Shear transformations\n",
    "    zoom_range=0.2,          # Zoom transformations\n",
    "    horizontal_flip=True)   # Horizontal flips\n",
    "\n",
    "validation_datagen = tf.keras.preprocessing.image.ImageDataGenerator(rescale=1./255)"
   ]
  },
  {
   "cell_type": "code",
   "execution_count": 28,
   "id": "18f146b3",
   "metadata": {},
   "outputs": [
    {
     "name": "stdout",
     "output_type": "stream",
     "text": [
      "Found 35 images belonging to 2 classes.\n",
      "Found 7 images belonging to 2 classes.\n"
     ]
    }
   ],
   "source": [
    "# Create data generators for training and validation sets\n",
    "train_generator = train_datagen.flow_from_directory(\n",
    "    train_data_dir,\n",
    "    target_size=image_size,\n",
    "    batch_size=batch_size,\n",
    "    class_mode='binary')\n",
    "\n",
    "validation_generator = validation_datagen.flow_from_directory(\n",
    "    validation_data_dir,\n",
    "    target_size=image_size,\n",
    "    batch_size=batch_size,\n",
    "    class_mode='binary')"
   ]
  },
  {
   "cell_type": "code",
   "execution_count": 35,
   "id": "79f89053",
   "metadata": {},
   "outputs": [],
   "source": [
    "\n",
    "# Define callbacks\n",
    "early_stopping = callbacks.EarlyStopping(\n",
    "    monitor='accuracy',\n",
    "    patience=40,\n",
    "    restore_best_weights=True\n",
    ")\n",
    "\n",
    "model_checkpoint = callbacks.ModelCheckpoint(\n",
    "    'fcd_model.h5',\n",
    "    monitor='val_accuracy',\n",
    "    save_best_only=True\n",
    ")"
   ]
  },
  {
   "cell_type": "code",
   "execution_count": 36,
   "id": "2c9b22db",
   "metadata": {},
   "outputs": [
    {
     "name": "stdout",
     "output_type": "stream",
     "text": [
      "Epoch 1/100\n",
      "1/1 [==============================] - ETA: 0s - loss: 0.1640 - accuracy: 1.0000WARNING:tensorflow:Can save best model only with val_accuracy available, skipping.\n",
      "1/1 [==============================] - 0s 142ms/step - loss: 0.1640 - accuracy: 1.0000\n",
      "Epoch 2/100\n",
      "1/1 [==============================] - ETA: 0s - loss: 0.0570 - accuracy: 1.0000WARNING:tensorflow:Can save best model only with val_accuracy available, skipping.\n",
      "1/1 [==============================] - 0s 62ms/step - loss: 0.0570 - accuracy: 1.0000\n",
      "Epoch 3/100\n",
      "1/1 [==============================] - ETA: 0s - loss: 0.1740 - accuracy: 0.9375WARNING:tensorflow:Can save best model only with val_accuracy available, skipping.\n",
      "1/1 [==============================] - 0s 351ms/step - loss: 0.1740 - accuracy: 0.9375\n",
      "Epoch 4/100\n",
      "1/1 [==============================] - ETA: 0s - loss: 0.4568 - accuracy: 0.6667WARNING:tensorflow:Can save best model only with val_accuracy available, skipping.\n",
      "1/1 [==============================] - 0s 60ms/step - loss: 0.4568 - accuracy: 0.6667\n",
      "Epoch 5/100\n",
      "1/1 [==============================] - ETA: 0s - loss: 0.1741 - accuracy: 0.9688WARNING:tensorflow:Can save best model only with val_accuracy available, skipping.\n",
      "1/1 [==============================] - 0s 357ms/step - loss: 0.1741 - accuracy: 0.9688\n",
      "Epoch 6/100\n",
      "1/1 [==============================] - ETA: 0s - loss: 0.2081 - accuracy: 1.0000WARNING:tensorflow:Can save best model only with val_accuracy available, skipping.\n",
      "1/1 [==============================] - 0s 59ms/step - loss: 0.2081 - accuracy: 1.0000\n",
      "Epoch 7/100\n",
      "1/1 [==============================] - ETA: 0s - loss: 0.0516 - accuracy: 1.0000WARNING:tensorflow:Can save best model only with val_accuracy available, skipping.\n",
      "1/1 [==============================] - 0s 63ms/step - loss: 0.0516 - accuracy: 1.0000\n",
      "Epoch 8/100\n",
      "1/1 [==============================] - ETA: 0s - loss: 0.2922 - accuracy: 1.0000WARNING:tensorflow:Can save best model only with val_accuracy available, skipping.\n",
      "1/1 [==============================] - 0s 67ms/step - loss: 0.2922 - accuracy: 1.0000\n",
      "Epoch 9/100\n",
      "1/1 [==============================] - ETA: 0s - loss: 0.0372 - accuracy: 1.0000WARNING:tensorflow:Can save best model only with val_accuracy available, skipping.\n",
      "1/1 [==============================] - 0s 68ms/step - loss: 0.0372 - accuracy: 1.0000\n",
      "Epoch 10/100\n",
      "1/1 [==============================] - ETA: 0s - loss: 0.1445 - accuracy: 1.0000WARNING:tensorflow:Can save best model only with val_accuracy available, skipping.\n",
      "1/1 [==============================] - 0s 359ms/step - loss: 0.1445 - accuracy: 1.0000\n",
      "Epoch 11/100\n",
      "1/1 [==============================] - ETA: 0s - loss: 0.0389 - accuracy: 1.0000WARNING:tensorflow:Can save best model only with val_accuracy available, skipping.\n",
      "1/1 [==============================] - 0s 60ms/step - loss: 0.0389 - accuracy: 1.0000\n",
      "Epoch 12/100\n",
      "1/1 [==============================] - ETA: 0s - loss: 0.1418 - accuracy: 0.9688WARNING:tensorflow:Can save best model only with val_accuracy available, skipping.\n",
      "1/1 [==============================] - 0s 347ms/step - loss: 0.1418 - accuracy: 0.9688\n",
      "Epoch 13/100\n",
      "1/1 [==============================] - ETA: 0s - loss: 0.0321 - accuracy: 1.0000WARNING:tensorflow:Can save best model only with val_accuracy available, skipping.\n",
      "1/1 [==============================] - 0s 60ms/step - loss: 0.0321 - accuracy: 1.0000\n",
      "Epoch 14/100\n",
      "1/1 [==============================] - ETA: 0s - loss: 0.0335 - accuracy: 1.0000WARNING:tensorflow:Can save best model only with val_accuracy available, skipping.\n",
      "1/1 [==============================] - 0s 64ms/step - loss: 0.0335 - accuracy: 1.0000\n",
      "Epoch 15/100\n",
      "1/1 [==============================] - ETA: 0s - loss: 0.1364 - accuracy: 1.0000WARNING:tensorflow:Can save best model only with val_accuracy available, skipping.\n",
      "1/1 [==============================] - 0s 350ms/step - loss: 0.1364 - accuracy: 1.0000\n",
      "Epoch 16/100\n",
      "1/1 [==============================] - ETA: 0s - loss: 0.1524 - accuracy: 1.0000WARNING:tensorflow:Can save best model only with val_accuracy available, skipping.\n",
      "1/1 [==============================] - 0s 345ms/step - loss: 0.1524 - accuracy: 1.0000\n",
      "Epoch 17/100\n",
      "1/1 [==============================] - ETA: 0s - loss: 0.0466 - accuracy: 1.0000WARNING:tensorflow:Can save best model only with val_accuracy available, skipping.\n",
      "1/1 [==============================] - 0s 71ms/step - loss: 0.0466 - accuracy: 1.0000\n",
      "Epoch 18/100\n",
      "1/1 [==============================] - ETA: 0s - loss: 0.2339 - accuracy: 0.8750WARNING:tensorflow:Can save best model only with val_accuracy available, skipping.\n",
      "1/1 [==============================] - 0s 352ms/step - loss: 0.2339 - accuracy: 0.8750\n",
      "Epoch 19/100\n",
      "1/1 [==============================] - ETA: 0s - loss: 0.2500 - accuracy: 1.0000WARNING:tensorflow:Can save best model only with val_accuracy available, skipping.\n",
      "1/1 [==============================] - 0s 59ms/step - loss: 0.2500 - accuracy: 1.0000\n",
      "Epoch 20/100\n",
      "1/1 [==============================] - ETA: 0s - loss: 0.1854 - accuracy: 0.9062WARNING:tensorflow:Can save best model only with val_accuracy available, skipping.\n",
      "1/1 [==============================] - 0s 351ms/step - loss: 0.1854 - accuracy: 0.9062\n",
      "Epoch 21/100\n",
      "1/1 [==============================] - ETA: 0s - loss: 0.1063 - accuracy: 1.0000WARNING:tensorflow:Can save best model only with val_accuracy available, skipping.\n",
      "1/1 [==============================] - 0s 348ms/step - loss: 0.1063 - accuracy: 1.0000\n",
      "Epoch 22/100\n",
      "1/1 [==============================] - ETA: 0s - loss: 0.1347 - accuracy: 0.9688WARNING:tensorflow:Can save best model only with val_accuracy available, skipping.\n",
      "1/1 [==============================] - 0s 351ms/step - loss: 0.1347 - accuracy: 0.9688\n",
      "Epoch 23/100\n",
      "1/1 [==============================] - ETA: 0s - loss: 0.0784 - accuracy: 1.0000WARNING:tensorflow:Can save best model only with val_accuracy available, skipping.\n",
      "1/1 [==============================] - 0s 63ms/step - loss: 0.0784 - accuracy: 1.0000\n",
      "Epoch 24/100\n",
      "1/1 [==============================] - ETA: 0s - loss: 0.2925 - accuracy: 0.9062WARNING:tensorflow:Can save best model only with val_accuracy available, skipping.\n",
      "1/1 [==============================] - 0s 354ms/step - loss: 0.2925 - accuracy: 0.9062\n",
      "Epoch 25/100\n",
      "1/1 [==============================] - ETA: 0s - loss: 0.1451 - accuracy: 0.9375WARNING:tensorflow:Can save best model only with val_accuracy available, skipping.\n",
      "1/1 [==============================] - 0s 351ms/step - loss: 0.1451 - accuracy: 0.9375\n",
      "Epoch 26/100\n",
      "1/1 [==============================] - ETA: 0s - loss: 0.1893 - accuracy: 0.9375WARNING:tensorflow:Can save best model only with val_accuracy available, skipping.\n",
      "1/1 [==============================] - 0s 345ms/step - loss: 0.1893 - accuracy: 0.9375\n",
      "Epoch 27/100\n",
      "1/1 [==============================] - ETA: 0s - loss: 0.1569 - accuracy: 0.9375WARNING:tensorflow:Can save best model only with val_accuracy available, skipping.\n",
      "1/1 [==============================] - 0s 345ms/step - loss: 0.1569 - accuracy: 0.9375\n",
      "Epoch 28/100\n",
      "1/1 [==============================] - ETA: 0s - loss: 0.0493 - accuracy: 1.0000WARNING:tensorflow:Can save best model only with val_accuracy available, skipping.\n",
      "1/1 [==============================] - 0s 59ms/step - loss: 0.0493 - accuracy: 1.0000\n",
      "Epoch 29/100\n",
      "1/1 [==============================] - ETA: 0s - loss: 0.0929 - accuracy: 1.0000WARNING:tensorflow:Can save best model only with val_accuracy available, skipping.\n",
      "1/1 [==============================] - 0s 61ms/step - loss: 0.0929 - accuracy: 1.0000\n",
      "Epoch 30/100\n",
      "1/1 [==============================] - ETA: 0s - loss: 0.1335 - accuracy: 1.0000WARNING:tensorflow:Can save best model only with val_accuracy available, skipping.\n",
      "1/1 [==============================] - 0s 355ms/step - loss: 0.1335 - accuracy: 1.0000\n",
      "Epoch 31/100\n",
      "1/1 [==============================] - ETA: 0s - loss: 0.0999 - accuracy: 1.0000WARNING:tensorflow:Can save best model only with val_accuracy available, skipping.\n",
      "1/1 [==============================] - 0s 356ms/step - loss: 0.0999 - accuracy: 1.0000\n",
      "Epoch 32/100\n"
     ]
    },
    {
     "name": "stdout",
     "output_type": "stream",
     "text": [
      "1/1 [==============================] - ETA: 0s - loss: 0.1128 - accuracy: 1.0000WARNING:tensorflow:Can save best model only with val_accuracy available, skipping.\n",
      "1/1 [==============================] - 0s 61ms/step - loss: 0.1128 - accuracy: 1.0000\n",
      "Epoch 33/100\n",
      "1/1 [==============================] - ETA: 0s - loss: 0.1095 - accuracy: 1.0000WARNING:tensorflow:Can save best model only with val_accuracy available, skipping.\n",
      "1/1 [==============================] - 0s 354ms/step - loss: 0.1095 - accuracy: 1.0000\n",
      "Epoch 34/100\n",
      "1/1 [==============================] - ETA: 0s - loss: 0.1842 - accuracy: 0.9375WARNING:tensorflow:Can save best model only with val_accuracy available, skipping.\n",
      "1/1 [==============================] - 0s 349ms/step - loss: 0.1842 - accuracy: 0.9375\n",
      "Epoch 35/100\n",
      "1/1 [==============================] - ETA: 0s - loss: 0.1111 - accuracy: 1.0000WARNING:tensorflow:Can save best model only with val_accuracy available, skipping.\n",
      "1/1 [==============================] - 0s 370ms/step - loss: 0.1111 - accuracy: 1.0000\n",
      "Epoch 36/100\n",
      "1/1 [==============================] - ETA: 0s - loss: 0.1365 - accuracy: 1.0000WARNING:tensorflow:Can save best model only with val_accuracy available, skipping.\n",
      "1/1 [==============================] - 0s 375ms/step - loss: 0.1365 - accuracy: 1.0000\n",
      "Epoch 37/100\n",
      "1/1 [==============================] - ETA: 0s - loss: 0.0544 - accuracy: 1.0000WARNING:tensorflow:Can save best model only with val_accuracy available, skipping.\n",
      "1/1 [==============================] - 0s 101ms/step - loss: 0.0544 - accuracy: 1.0000\n",
      "Epoch 38/100\n",
      "1/1 [==============================] - ETA: 0s - loss: 0.1094 - accuracy: 1.0000WARNING:tensorflow:Can save best model only with val_accuracy available, skipping.\n",
      "1/1 [==============================] - 0s 61ms/step - loss: 0.1094 - accuracy: 1.0000\n",
      "Epoch 39/100\n",
      "1/1 [==============================] - ETA: 0s - loss: 0.1185 - accuracy: 0.9688WARNING:tensorflow:Can save best model only with val_accuracy available, skipping.\n",
      "1/1 [==============================] - 0s 362ms/step - loss: 0.1185 - accuracy: 0.9688\n",
      "Epoch 40/100\n",
      "1/1 [==============================] - ETA: 0s - loss: 0.0765 - accuracy: 1.0000WARNING:tensorflow:Can save best model only with val_accuracy available, skipping.\n",
      "1/1 [==============================] - 0s 60ms/step - loss: 0.0765 - accuracy: 1.0000\n",
      "Epoch 41/100\n",
      "1/1 [==============================] - ETA: 0s - loss: 0.1069 - accuracy: 1.0000WARNING:tensorflow:Can save best model only with val_accuracy available, skipping.\n",
      "1/1 [==============================] - 0s 366ms/step - loss: 0.1069 - accuracy: 1.0000\n"
     ]
    },
    {
     "data": {
      "text/plain": [
       "<keras.callbacks.History at 0x17fed9ca0>"
      ]
     },
     "execution_count": 36,
     "metadata": {},
     "output_type": "execute_result"
    }
   ],
   "source": [
    "# Train the model\n",
    "model.fit(\n",
    "    train_generator,\n",
    "    steps_per_epoch=train_generator.samples // batch_size,\n",
    "    epochs=100,\n",
    "    validation_data=validation_generator,\n",
    "    validation_steps=validation_generator.samples // batch_size,\n",
    "    callbacks=[early_stopping, model_checkpoint]\n",
    ")"
   ]
  },
  {
   "cell_type": "code",
   "execution_count": 37,
   "id": "e344c490",
   "metadata": {},
   "outputs": [],
   "source": [
    "model.save('fcd_final.h5')"
   ]
  },
  {
   "cell_type": "code",
   "execution_count": null,
   "id": "dbc3c944",
   "metadata": {},
   "outputs": [],
   "source": []
  }
 ],
 "metadata": {
  "kernelspec": {
   "display_name": "Python 3 (ipykernel)",
   "language": "python",
   "name": "python3"
  },
  "language_info": {
   "codemirror_mode": {
    "name": "ipython",
    "version": 3
   },
   "file_extension": ".py",
   "mimetype": "text/x-python",
   "name": "python",
   "nbconvert_exporter": "python",
   "pygments_lexer": "ipython3",
   "version": "3.8.16"
  }
 },
 "nbformat": 4,
 "nbformat_minor": 5
}
