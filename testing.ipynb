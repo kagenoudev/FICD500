{
 "cells": [
  {
   "cell_type": "code",
   "execution_count": 1,
   "id": "bb9e0f78",
   "metadata": {},
   "outputs": [],
   "source": [
    "import tensorflow as tf\n",
    "import numpy as np\n",
    "from PIL import Image"
   ]
  },
  {
   "cell_type": "code",
   "execution_count": 2,
   "id": "8189b403",
   "metadata": {},
   "outputs": [],
   "source": [
    "# Load the trained model\n",
    "model = tf.keras.models.load_model('fcd_final.h5')\n"
   ]
  },
  {
   "cell_type": "code",
   "execution_count": 11,
   "id": "72efbbd4",
   "metadata": {},
   "outputs": [],
   "source": [
    "# Load and preprocess a sample image for testing\n",
    "image_path = 'Dataset/Testing/fake.webp'  # Replace with the path to your sample image\n",
    "image = Image.open(image_path)\n",
    "image = image.resize((64, 64))  # Resize the image to match the input size of the model\n",
    "image_array = np.array(image) / 255.0  # Normalize pixel values to [0, 1]\n",
    "image_array = np.expand_dims(image_array, axis=0)  # Add a batch dimension\n"
   ]
  },
  {
   "cell_type": "code",
   "execution_count": 12,
   "id": "a5e16953",
   "metadata": {},
   "outputs": [
    {
     "name": "stdout",
     "output_type": "stream",
     "text": [
      "1/1 [==============================] - 0s 102ms/step\n"
     ]
    }
   ],
   "source": [
    "# Perform prediction on the sample image\n",
    "prediction = model.predict(image_array)"
   ]
  },
  {
   "cell_type": "code",
   "execution_count": 13,
   "id": "28dc3074",
   "metadata": {},
   "outputs": [
    {
     "name": "stdout",
     "output_type": "stream",
     "text": [
      "The currency is fake.\n"
     ]
    }
   ],
   "source": [
    "# Interpret the prediction\n",
    "if prediction[0] >= 0.5:\n",
    "    print(\"The currency is real.\")\n",
    "else:\n",
    "    print(\"The currency is fake.\")"
   ]
  },
  {
   "cell_type": "code",
   "execution_count": null,
   "id": "8eaa9f93",
   "metadata": {},
   "outputs": [],
   "source": []
  }
 ],
 "metadata": {
  "kernelspec": {
   "display_name": "Python 3 (ipykernel)",
   "language": "python",
   "name": "python3"
  },
  "language_info": {
   "codemirror_mode": {
    "name": "ipython",
    "version": 3
   },
   "file_extension": ".py",
   "mimetype": "text/x-python",
   "name": "python",
   "nbconvert_exporter": "python",
   "pygments_lexer": "ipython3",
   "version": "3.8.16"
  }
 },
 "nbformat": 4,
 "nbformat_minor": 5
}
